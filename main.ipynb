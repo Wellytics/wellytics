{
 "cells": [
  {
   "cell_type": "code",
   "execution_count": null,
   "metadata": {},
   "outputs": [],
   "source": []
  }
 ],
 "metadata": {
  "kernelspec": {
   "display_name": "env",
   "language": "python",
   "name": "python3"
  },
  "language_info": {
   "name": "python",
   "version": "3.10.6"
  },
  "orig_nbformat": 4,
  "vscode": {
   "interpreter": {
    "hash": "9b33590f64e938357389b8fe1c30812f2a069bf88890cf889a06b6e260f6da39"
   }
  }
 },
 "nbformat": 4,
 "nbformat_minor": 2
}
