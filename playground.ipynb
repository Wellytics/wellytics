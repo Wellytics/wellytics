{
 "cells": [
  {
   "cell_type": "code",
   "execution_count": 1,
   "metadata": {},
   "outputs": [
    {
     "name": "stderr",
     "output_type": "stream",
     "text": [
      "/home/alen/Desktop/Wellytics/wellytics/env/lib/python3.10/site-packages/tqdm/auto.py:22: TqdmWarning: IProgress not found. Please update jupyter and ipywidgets. See https://ipywidgets.readthedocs.io/en/stable/user_install.html\n",
      "  from .autonotebook import tqdm as notebook_tqdm\n",
      "/home/alen/Desktop/Wellytics/wellytics/env/lib/python3.10/site-packages/transformers/pipelines/text_classification.py:104: UserWarning: `return_all_scores` is now deprecated,  if want a similar funcionality use `top_k=None` instead of `return_all_scores=True` or `top_k=1` instead of `return_all_scores=False`.\n",
      "  warnings.warn(\n"
     ]
    }
   ],
   "source": [
    "import random\n",
    "\n",
    "from wellytics.models import Form, Question, Metric, Response\n",
    "import wellytics.api as api"
   ]
  },
  {
   "cell_type": "code",
   "execution_count": 2,
   "metadata": {},
   "outputs": [],
   "source": [
    "_map = lambda f, xs: list(map(f, xs))\n",
    "_find = lambda f, xs: next(filter(f, xs), None)\n",
    "_filter = lambda f, xs: list(filter(f, xs))\n"
   ]
  },
  {
   "attachments": {},
   "cell_type": "markdown",
   "metadata": {},
   "source": [
    "## Boostrapping"
   ]
  },
  {
   "cell_type": "code",
   "execution_count": 3,
   "metadata": {},
   "outputs": [],
   "source": [
    "# class Question(BaseModel):\n",
    "#     id: str\n",
    "#     createdAt: int\n",
    "#     updatedAt: int\n",
    "#     type: str\n",
    "#     required: bool\n",
    "#     question: str\n",
    "#     placeholder: Optional[str]\n",
    "#     subQuestions: Optional[List[Dict[str, str]]]\n",
    "#     options: Optional[List[Dict[str, str]]]\n",
    "#     min: Optional[int]\n",
    "#     max: Optional[int]\n",
    "\n",
    "question_template = \"What is your favorite color? {i}\"\n",
    "\n",
    "question_n = 10\n",
    "question_ids = _map(lambda i: f\"question-{i}\", range(question_n))\n",
    "question_texts = _map(lambda i: question_template.format(i=i), range(question_n))\n",
    "question_dicts = [\n",
    "    {\n",
    "        \"id\": id,\n",
    "        \"createdAt\": 0,\n",
    "        \"updatedAt\": 0,\n",
    "        \"type\": \"ShortAnswer\",\n",
    "        \"required\": True,\n",
    "        \"question\": question_texts[i],\n",
    "        \"placeholder\": None,\n",
    "        \"subQuestions\": None,\n",
    "        \"options\": None,\n",
    "        \"min\": None,\n",
    "        \"max\": None,\n",
    "    }\n",
    "    for i, id in enumerate(question_ids)\n",
    "]\n",
    "questions = _map(lambda d: Question(**d), question_dicts)"
   ]
  },
  {
   "cell_type": "code",
   "execution_count": 4,
   "metadata": {},
   "outputs": [],
   "source": [
    "# class Form(BaseModel):\n",
    "#     id: str\n",
    "#     createdAt: int\n",
    "#     updatedAt: int\n",
    "#     active: bool\n",
    "#     title: str\n",
    "#     description: str\n",
    "#     questions: List[str]  # ref to question\n",
    "\n",
    "form_n = 3\n",
    "form_ids = _map(lambda i: f\"form-{i}\", range(form_n))\n",
    "form_questions_n = 3\n",
    "form_dicts = [\n",
    "    {\n",
    "        \"id\": id,\n",
    "        \"createdAt\": 0,\n",
    "        \"updatedAt\": 0,\n",
    "        \"active\": True,\n",
    "        \"title\": f\"Form {i}\",\n",
    "        \"description\": f\"Form {i} description\",\n",
    "        \"questions\": random.sample(question_ids, form_questions_n),\n",
    "    }\n",
    "    for i, id in enumerate(form_ids)\n",
    "]\n",
    "forms = _map(lambda d: Form(**d), form_dicts)\n"
   ]
  },
  {
   "cell_type": "code",
   "execution_count": 5,
   "metadata": {},
   "outputs": [],
   "source": [
    "tracking_n = 3\n",
    "tracking_ids = [f\"tracking-{i}\" for i in range(tracking_n)]\n"
   ]
  },
  {
   "cell_type": "code",
   "execution_count": 6,
   "metadata": {},
   "outputs": [],
   "source": [
    "# class Metric(BaseModel):\n",
    "#     id: str\n",
    "#     createdAt: int\n",
    "#     updatedAt: int\n",
    "#     trackingId: str\n",
    "#     values: Dict[str, float]\n",
    "\n",
    "metric_n = 10\n",
    "metric_values_n = 3\n",
    "metric_value_ids = [f\"metric-value-{i}\" for i in range(metric_values_n)]\n",
    "metric_ids = []\n",
    "metric_dicts = []\n",
    "\n",
    "i = 0\n",
    "for tracking_id in tracking_ids:\n",
    "    for _ in range(metric_n):\n",
    "        id = f\"metric-{i}\"\n",
    "        metric_ids.append(id)\n",
    "        metric_dicts.append(\n",
    "            {\n",
    "                \"id\": id,\n",
    "                \"createdAt\": 0,\n",
    "                \"updatedAt\": 0,\n",
    "                \"trackingId\": tracking_id,\n",
    "                \"values\": {\n",
    "                    metric_value_id: random.random()\n",
    "                    for metric_value_id in metric_value_ids\n",
    "                },\n",
    "            }\n",
    "        )\n",
    "        i += 1\n",
    "\n",
    "\n",
    "metrics = _map(lambda d: Metric(**d), metric_dicts)\n"
   ]
  },
  {
   "cell_type": "code",
   "execution_count": 7,
   "metadata": {},
   "outputs": [],
   "source": [
    "# class Response(BaseModel):\n",
    "#     id: str\n",
    "#     createdAt: int\n",
    "#     updatedAt: int\n",
    "#     formId: str\n",
    "#     trackingId: str\n",
    "#     answers: Dict[str, Union[str, Dict[str, str]]]\n",
    "#     metrics: List[str]  # ref to metric\n",
    "\n",
    "response_n = 10\n",
    "response_metrics_n = 2\n",
    "response_dicts = []\n",
    "\n",
    "i = 0\n",
    "for form_id in form_ids:\n",
    "    for _ in range(response_n):\n",
    "        id = f\"response-{i}\"\n",
    "        tracking_id = random.choice(tracking_ids)\n",
    "        form = _find(lambda f: f.id == form_id, forms)\n",
    "        _metric_ids = [\n",
    "            metric_id\n",
    "            for i, metric_id in enumerate(metric_ids)\n",
    "            if metrics[i].trackingId == tracking_id\n",
    "        ]\n",
    "\n",
    "        response_dict = {\n",
    "            \"id\": id,\n",
    "            \"createdAt\": 0,\n",
    "            \"updatedAt\": 0,\n",
    "            \"formId\": form_id,\n",
    "            \"trackingId\": random.choice(tracking_ids),\n",
    "            \"answers\": {\n",
    "                question_id: random.choice([\"Yes\", \"No\"])\n",
    "                for question_id in form.questions\n",
    "            },\n",
    "            \"metrics\": random.sample(_metric_ids, response_metrics_n),\n",
    "        }\n",
    "\n",
    "        response_dicts.append(response_dict)\n",
    "        i += 1\n",
    "\n",
    "\n",
    "responses = _map(lambda d: Response(**d), response_dicts)\n"
   ]
  },
  {
   "cell_type": "code",
   "execution_count": 8,
   "metadata": {},
   "outputs": [],
   "source": [
    "for question in questions:\n",
    "    api.create_question(question)\n",
    "\n",
    "for form in forms:\n",
    "    api.create_form(form)\n",
    "\n",
    "for metric in metrics:\n",
    "    api.create_metric(metric)\n",
    "\n",
    "for response in responses:\n",
    "    api.create_response(response)\n"
   ]
  },
  {
   "attachments": {},
   "cell_type": "markdown",
   "metadata": {},
   "source": [
    "## Testing"
   ]
  },
  {
   "cell_type": "code",
   "execution_count": 9,
   "metadata": {},
   "outputs": [
    {
     "data": {
      "text/plain": [
       "ResponseSnapshot(id='response-10', createdAt=0, updatedAt=0, formId='form-1', trackingId='tracking-1', answers={'question-9': 'Yes', 'question-2': 'Yes', 'question-0': 'No'}, metrics=[Metric(id='metric-5', createdAt=0, updatedAt=0, trackingId='tracking-0', values={'metric-value-0': 0.7358165650283597, 'metric-value-2': 0.2494995864507321, 'metric-value-1': 0.32882327934183064}), Metric(id='metric-3', createdAt=0, updatedAt=0, trackingId='tracking-0', values={'metric-value-0': 0.21221041390633455, 'metric-value-2': 0.14227552955777933, 'metric-value-1': 0.2885097260431845})])"
      ]
     },
     "execution_count": 9,
     "metadata": {},
     "output_type": "execute_result"
    }
   ],
   "source": [
    "api.get_questions()\n",
    "api.get_question(\"question-0\")\n",
    "api.get_forms()\n",
    "api.get_form(\"form-1\")\n",
    "api.get_metrics()\n",
    "api.get_metric(\"metric-0\")\n",
    "api.get_responses(\"form-1\")\n",
    "api.get_response(\"form-1\", \"response-10\")\n"
   ]
  },
  {
   "cell_type": "code",
   "execution_count": 10,
   "metadata": {},
   "outputs": [
    {
     "data": {
      "text/plain": [
       "[Metric(id='metric-0', createdAt=0, updatedAt=0, trackingId='tracking-0', values={'metric-value-0': 0.10098265357445102, 'metric-value-2': 0.8026990787260162, 'metric-value-1': 0.7632350071096584}),\n",
       " Metric(id='metric-1', createdAt=0, updatedAt=0, trackingId='tracking-0', values={'metric-value-0': 0.5980494089596754, 'metric-value-2': 0.1247390116310475, 'metric-value-1': 0.635543014576007}),\n",
       " Metric(id='metric-2', createdAt=0, updatedAt=0, trackingId='tracking-0', values={'metric-value-0': 0.1866218810592032, 'metric-value-2': 0.9503041284170758, 'metric-value-1': 0.42833032789280545}),\n",
       " Metric(id='metric-3', createdAt=0, updatedAt=0, trackingId='tracking-0', values={'metric-value-0': 0.21221041390633455, 'metric-value-2': 0.14227552955777933, 'metric-value-1': 0.2885097260431845}),\n",
       " Metric(id='metric-4', createdAt=0, updatedAt=0, trackingId='tracking-0', values={'metric-value-0': 0.8778234468875254, 'metric-value-2': 0.6842843169900534, 'metric-value-1': 0.32476995243259854}),\n",
       " Metric(id='metric-5', createdAt=0, updatedAt=0, trackingId='tracking-0', values={'metric-value-0': 0.7358165650283597, 'metric-value-2': 0.2494995864507321, 'metric-value-1': 0.32882327934183064}),\n",
       " Metric(id='metric-6', createdAt=0, updatedAt=0, trackingId='tracking-0', values={'metric-value-0': 0.6742405875738078, 'metric-value-2': 0.4448282612437693, 'metric-value-1': 0.40230811656716525}),\n",
       " Metric(id='metric-7', createdAt=0, updatedAt=0, trackingId='tracking-0', values={'metric-value-0': 0.41001467667797864, 'metric-value-2': 0.08216635307299158, 'metric-value-1': 0.49615815335577285}),\n",
       " Metric(id='metric-8', createdAt=0, updatedAt=0, trackingId='tracking-0', values={'metric-value-0': 0.570093263586485, 'metric-value-2': 0.543114211774258, 'metric-value-1': 0.9791922446603722}),\n",
       " Metric(id='metric-9', createdAt=0, updatedAt=0, trackingId='tracking-0', values={'metric-value-0': 0.17972740464396553, 'metric-value-2': 0.73182250496676, 'metric-value-1': 0.7432201638708056}),\n",
       " Metric(id='new-metric', createdAt=0, updatedAt=0, trackingId='tracking-0', values={'metric-value-0': 1.0, 'metric-value-2': 1.0, 'metric-value-1': 1.0})]"
      ]
     },
     "execution_count": 10,
     "metadata": {},
     "output_type": "execute_result"
    }
   ],
   "source": [
    "api.get_form_metrics(\"form-1\")\n",
    "api.get_response_metrics(\"form-1\", \"response-10\")\n",
    "api.get_tracking(\"tracking-0\")\n"
   ]
  },
  {
   "cell_type": "code",
   "execution_count": 11,
   "metadata": {},
   "outputs": [
    {
     "data": {
      "text/plain": [
       "ResponseAnalytics(id='response-10', createdAt=1679000159, updatedAt=1679000159, status='Finished', jobId='058c1ebb-f6c2-496e-878b-81a2a193e6d9', formId='form-1', trackingId='tracking-1', keywords={'question-3': [], 'question-4': [], 'question-6': []}, emotions={'question-3': [Emotion(label='realization', score=0.12365546822547913), Emotion(label='approval', score=0.09206066280603409), Emotion(label='caring', score=0.07140208780765533), Emotion(label='pride', score=0.05091802403330803), Emotion(label='curiosity', score=0.04539746791124344), Emotion(label='optimism', score=0.03649824112653732), Emotion(label='amusement', score=0.03512772172689438), Emotion(label='desire', score=0.034038905054330826), Emotion(label='neutral', score=0.03403535857796669), Emotion(label='excitement', score=0.03266259282827377), Emotion(label='joy', score=0.03238248452544212), Emotion(label='admiration', score=0.031381476670503616), Emotion(label='nervousness', score=0.03017023205757141), Emotion(label='relief', score=0.02993064373731613), Emotion(label='annoyance', score=0.029585255309939384), Emotion(label='remorse', score=0.029546428471803665), Emotion(label='embarrassment', score=0.029134750366210938), Emotion(label='love', score=0.027948802337050438), Emotion(label='confusion', score=0.026987075805664062), Emotion(label='gratitude', score=0.02507656067609787), Emotion(label='disgust', score=0.022884929552674294), Emotion(label='grief', score=0.02209196798503399), Emotion(label='anger', score=0.021932732313871384), Emotion(label='surprise', score=0.020895332098007202), Emotion(label='sadness', score=0.018020858988165855), Emotion(label='fear', score=0.016678329557180405), Emotion(label='disapproval', score=0.015308640897274017), Emotion(label='disappointment', score=0.014247001148760319)], 'question-4': [Emotion(label='realization', score=0.12365546822547913), Emotion(label='approval', score=0.09206066280603409), Emotion(label='caring', score=0.07140208780765533), Emotion(label='pride', score=0.05091802403330803), Emotion(label='curiosity', score=0.04539746791124344), Emotion(label='optimism', score=0.03649824112653732), Emotion(label='amusement', score=0.03512772172689438), Emotion(label='desire', score=0.034038905054330826), Emotion(label='neutral', score=0.03403535857796669), Emotion(label='excitement', score=0.03266259282827377), Emotion(label='joy', score=0.03238248452544212), Emotion(label='admiration', score=0.031381476670503616), Emotion(label='nervousness', score=0.03017023205757141), Emotion(label='relief', score=0.02993064373731613), Emotion(label='annoyance', score=0.029585255309939384), Emotion(label='remorse', score=0.029546428471803665), Emotion(label='embarrassment', score=0.029134750366210938), Emotion(label='love', score=0.027948802337050438), Emotion(label='confusion', score=0.026987075805664062), Emotion(label='gratitude', score=0.02507656067609787), Emotion(label='disgust', score=0.022884929552674294), Emotion(label='grief', score=0.02209196798503399), Emotion(label='anger', score=0.021932732313871384), Emotion(label='surprise', score=0.020895332098007202), Emotion(label='sadness', score=0.018020858988165855), Emotion(label='fear', score=0.016678329557180405), Emotion(label='disapproval', score=0.015308640897274017), Emotion(label='disappointment', score=0.014247001148760319)], 'question-6': [Emotion(label='realization', score=0.12365546822547913), Emotion(label='approval', score=0.09206066280603409), Emotion(label='caring', score=0.07140208780765533), Emotion(label='pride', score=0.05091802403330803), Emotion(label='curiosity', score=0.04539746791124344), Emotion(label='optimism', score=0.03649824112653732), Emotion(label='amusement', score=0.03512772172689438), Emotion(label='desire', score=0.034038905054330826), Emotion(label='neutral', score=0.03403535857796669), Emotion(label='excitement', score=0.03266259282827377), Emotion(label='joy', score=0.03238248452544212), Emotion(label='admiration', score=0.031381476670503616), Emotion(label='nervousness', score=0.03017023205757141), Emotion(label='relief', score=0.02993064373731613), Emotion(label='annoyance', score=0.029585255309939384), Emotion(label='remorse', score=0.029546428471803665), Emotion(label='embarrassment', score=0.029134750366210938), Emotion(label='love', score=0.027948802337050438), Emotion(label='confusion', score=0.026987075805664062), Emotion(label='gratitude', score=0.02507656067609787), Emotion(label='disgust', score=0.022884929552674294), Emotion(label='grief', score=0.02209196798503399), Emotion(label='anger', score=0.021932732313871384), Emotion(label='surprise', score=0.020895332098007202), Emotion(label='sadness', score=0.018020858988165855), Emotion(label='fear', score=0.016678329557180405), Emotion(label='disapproval', score=0.015308640897274017), Emotion(label='disappointment', score=0.014247001148760319)]})"
      ]
     },
     "execution_count": 11,
     "metadata": {},
     "output_type": "execute_result"
    }
   ],
   "source": [
    "api.get_response_analytics(\"form-1\", \"response-10\")"
   ]
  },
  {
   "cell_type": "code",
   "execution_count": 12,
   "metadata": {},
   "outputs": [
    {
     "data": {
      "text/plain": [
       "FormAnalytics(id='form-1', createdAt=1679000280, updatedAt=1679000280, status='Finished', jobId='b2f9978f-3407-44b1-8969-653742628c43', formId='form-1', keywords={'question-3': [], 'question-4': [], 'question-6': []}, emotions={'question-3': [Emotion(label='caring', score=0.054907992109656335), Emotion(label='approval', score=0.0683763436973095), Emotion(label='disapproval', score=0.07574186101555824), Emotion(label='realization', score=0.0980410985648632), Emotion(label='remorse', score=0.030416952818632124), Emotion(label='desire', score=0.02876665610820055), Emotion(label='curiosity', score=0.036093606241047384), Emotion(label='excitement', score=0.02482333783991635), Emotion(label='pride', score=0.040793842263519765), Emotion(label='confusion', score=0.04054570719599724), Emotion(label='relief', score=0.027374593541026115), Emotion(label='admiration', score=0.025070648454129697), Emotion(label='surprise', score=0.021815712563693523), Emotion(label='neutral', score=0.03602230101823807), Emotion(label='grief', score=0.022250129468739034), Emotion(label='annoyance', score=0.03247275780886412), Emotion(label='anger', score=0.02148862835019827), Emotion(label='fear', score=0.017830437794327737), Emotion(label='optimism', score=0.028761511761695148), Emotion(label='nervousness', score=0.027322159707546236), Emotion(label='disgust', score=0.03561262097209692), Emotion(label='joy', score=0.025620086584240198), Emotion(label='gratitude', score=0.021226298250257968), Emotion(label='embarrassment', score=0.03314603641629219), Emotion(label='amusement', score=0.02870231233537197), Emotion(label='sadness', score=0.02406126130372286), Emotion(label='love', score=0.0227330488152802), Emotion(label='disappointment', score=0.049982098396867514)], 'question-4': [Emotion(label='caring', score=0.038413896411657336), Emotion(label='approval', score=0.0446920245885849), Emotion(label='disapproval', score=0.13617508113384247), Emotion(label='realization', score=0.07242672890424728), Emotion(label='remorse', score=0.031287477165460584), Emotion(label='desire', score=0.023494407162070276), Emotion(label='curiosity', score=0.026789744570851325), Emotion(label='excitement', score=0.016984082851558925), Emotion(label='pride', score=0.030669660493731498), Emotion(label='confusion', score=0.05410433858633042), Emotion(label='relief', score=0.0248185433447361), Emotion(label='admiration', score=0.018759820237755777), Emotion(label='surprise', score=0.022736093029379845), Emotion(label='neutral', score=0.038009243458509444), Emotion(label='grief', score=0.022408290952444076), Emotion(label='annoyance', score=0.03536026030778885), Emotion(label='anger', score=0.021044524386525154), Emotion(label='fear', score=0.01898254603147507), Emotion(label='optimism', score=0.02102478239685297), Emotion(label='nervousness', score=0.024474087357521056), Emotion(label='disgust', score=0.04834031239151955), Emotion(label='joy', score=0.018857688643038273), Emotion(label='gratitude', score=0.017376035824418067), Emotion(label='embarrassment', score=0.037157322466373446), Emotion(label='amusement', score=0.022276902943849562), Emotion(label='sadness', score=0.03010166361927986), Emotion(label='love', score=0.01751729529350996), Emotion(label='disappointment', score=0.08571719564497471)], 'question-6': [Emotion(label='caring', score=0.043911928310990334), Emotion(label='approval', score=0.05258679762482643), Emotion(label='disapproval', score=0.11603067442774773), Emotion(label='realization', score=0.08096485212445259), Emotion(label='remorse', score=0.030997302383184433), Emotion(label='desire', score=0.025251823477447033), Emotion(label='curiosity', score=0.02989103179425001), Emotion(label='excitement', score=0.019597167847678065), Emotion(label='pride', score=0.03404438775032759), Emotion(label='confusion', score=0.04958479478955269), Emotion(label='relief', score=0.02567056007683277), Emotion(label='admiration', score=0.02086342964321375), Emotion(label='surprise', score=0.022429299540817738), Emotion(label='neutral', score=0.03734692931175232), Emotion(label='grief', score=0.02235557045787573), Emotion(label='annoyance', score=0.03439775947481394), Emotion(label='anger', score=0.02119255904108286), Emotion(label='fear', score=0.018598509952425957), Emotion(label='optimism', score=0.023603692185133696), Emotion(label='nervousness', score=0.02542344480752945), Emotion(label='disgust', score=0.04409774858504534), Emotion(label='joy', score=0.02111182129010558), Emotion(label='gratitude', score=0.018659456633031368), Emotion(label='embarrassment', score=0.03582022711634636), Emotion(label='amusement', score=0.024418706074357033), Emotion(label='sadness', score=0.02808819618076086), Emotion(label='love', score=0.019255879800766706), Emotion(label='disappointment', score=0.07380549656227231)]}, responseAnalytics=[ResponseAnalytics(id='response-10', createdAt=1679000279, updatedAt=1679000279, status='Finished', jobId='b2f9978f-3407-44b1-8969-653742628c43-0', formId='form-1', trackingId='tracking-1', keywords={'question-3': [], 'question-4': [], 'question-6': []}, emotions={'question-3': [Emotion(label='realization', score=0.12365546822547913), Emotion(label='approval', score=0.09206066280603409), Emotion(label='caring', score=0.07140208780765533), Emotion(label='pride', score=0.05091802403330803), Emotion(label='curiosity', score=0.04539746791124344), Emotion(label='optimism', score=0.03649824112653732), Emotion(label='amusement', score=0.03512772172689438), Emotion(label='desire', score=0.034038905054330826), Emotion(label='neutral', score=0.03403535857796669), Emotion(label='excitement', score=0.03266259282827377), Emotion(label='joy', score=0.03238248452544212), Emotion(label='admiration', score=0.031381476670503616), Emotion(label='nervousness', score=0.03017023205757141), Emotion(label='relief', score=0.02993064373731613), Emotion(label='annoyance', score=0.029585255309939384), Emotion(label='remorse', score=0.029546428471803665), Emotion(label='embarrassment', score=0.029134750366210938), Emotion(label='love', score=0.027948802337050438), Emotion(label='confusion', score=0.026987075805664062), Emotion(label='gratitude', score=0.02507656067609787), Emotion(label='disgust', score=0.022884929552674294), Emotion(label='grief', score=0.02209196798503399), Emotion(label='anger', score=0.021932732313871384), Emotion(label='surprise', score=0.020895332098007202), Emotion(label='sadness', score=0.018020858988165855), Emotion(label='fear', score=0.016678329557180405), Emotion(label='disapproval', score=0.015308640897274017), Emotion(label='disappointment', score=0.014247001148760319)], 'question-4': [Emotion(label='realization', score=0.12365546822547913), Emotion(label='approval', score=0.09206066280603409), Emotion(label='caring', score=0.07140208780765533), Emotion(label='pride', score=0.05091802403330803), Emotion(label='curiosity', score=0.04539746791124344), Emotion(label='optimism', score=0.03649824112653732), Emotion(label='amusement', score=0.03512772172689438), Emotion(label='desire', score=0.034038905054330826), Emotion(label='neutral', score=0.03403535857796669), Emotion(label='excitement', score=0.03266259282827377), Emotion(label='joy', score=0.03238248452544212), Emotion(label='admiration', score=0.031381476670503616), Emotion(label='nervousness', score=0.03017023205757141), Emotion(label='relief', score=0.02993064373731613), Emotion(label='annoyance', score=0.029585255309939384), Emotion(label='remorse', score=0.029546428471803665), Emotion(label='embarrassment', score=0.029134750366210938), Emotion(label='love', score=0.027948802337050438), Emotion(label='confusion', score=0.026987075805664062), Emotion(label='gratitude', score=0.02507656067609787), Emotion(label='disgust', score=0.022884929552674294), Emotion(label='grief', score=0.02209196798503399), Emotion(label='anger', score=0.021932732313871384), Emotion(label='surprise', score=0.020895332098007202), Emotion(label='sadness', score=0.018020858988165855), Emotion(label='fear', score=0.016678329557180405), Emotion(label='disapproval', score=0.015308640897274017), Emotion(label='disappointment', score=0.014247001148760319)], 'question-6': [Emotion(label='realization', score=0.12365546822547913), Emotion(label='approval', score=0.09206066280603409), Emotion(label='caring', score=0.07140208780765533), Emotion(label='pride', score=0.05091802403330803), Emotion(label='curiosity', score=0.04539746791124344), Emotion(label='optimism', score=0.03649824112653732), Emotion(label='amusement', score=0.03512772172689438), Emotion(label='desire', score=0.034038905054330826), Emotion(label='neutral', score=0.03403535857796669), Emotion(label='excitement', score=0.03266259282827377), Emotion(label='joy', score=0.03238248452544212), Emotion(label='admiration', score=0.031381476670503616), Emotion(label='nervousness', score=0.03017023205757141), Emotion(label='relief', score=0.02993064373731613), Emotion(label='annoyance', score=0.029585255309939384), Emotion(label='remorse', score=0.029546428471803665), Emotion(label='embarrassment', score=0.029134750366210938), Emotion(label='love', score=0.027948802337050438), Emotion(label='confusion', score=0.026987075805664062), Emotion(label='gratitude', score=0.02507656067609787), Emotion(label='disgust', score=0.022884929552674294), Emotion(label='grief', score=0.02209196798503399), Emotion(label='anger', score=0.021932732313871384), Emotion(label='surprise', score=0.020895332098007202), Emotion(label='sadness', score=0.018020858988165855), Emotion(label='fear', score=0.016678329557180405), Emotion(label='disapproval', score=0.015308640897274017), Emotion(label='disappointment', score=0.014247001148760319)]}), ResponseAnalytics(id='response-11', createdAt=1679000280, updatedAt=1679000280, status='Finished', jobId='b2f9978f-3407-44b1-8969-653742628c43-1', formId='form-1', trackingId='tracking-2', keywords={'question-3': [], 'question-4': [], 'question-6': []}, emotions={'question-3': [Emotion(label='realization', score=0.12365546822547913), Emotion(label='approval', score=0.09206066280603409), Emotion(label='caring', score=0.07140208780765533), Emotion(label='pride', score=0.05091802403330803), Emotion(label='curiosity', score=0.04539746791124344), Emotion(label='optimism', score=0.03649824112653732), Emotion(label='amusement', score=0.03512772172689438), Emotion(label='desire', score=0.034038905054330826), Emotion(label='neutral', score=0.03403535857796669), Emotion(label='excitement', score=0.03266259282827377), Emotion(label='joy', score=0.03238248452544212), Emotion(label='admiration', score=0.031381476670503616), Emotion(label='nervousness', score=0.03017023205757141), Emotion(label='relief', score=0.02993064373731613), Emotion(label='annoyance', score=0.029585255309939384), Emotion(label='remorse', score=0.029546428471803665), Emotion(label='embarrassment', score=0.029134750366210938), Emotion(label='love', score=0.027948802337050438), Emotion(label='confusion', score=0.026987075805664062), Emotion(label='gratitude', score=0.02507656067609787), Emotion(label='disgust', score=0.022884929552674294), Emotion(label='grief', score=0.02209196798503399), Emotion(label='anger', score=0.021932732313871384), Emotion(label='surprise', score=0.020895332098007202), Emotion(label='sadness', score=0.018020858988165855), Emotion(label='fear', score=0.016678329557180405), Emotion(label='disapproval', score=0.015308640897274017), Emotion(label='disappointment', score=0.014247001148760319)], 'question-4': [Emotion(label='disapproval', score=0.21675270795822144), Emotion(label='disappointment', score=0.1333639919757843), Emotion(label='confusion', score=0.07218251377344131), Emotion(label='disgust', score=0.06531056761741638), Emotion(label='embarrassment', score=0.04250570386648178), Emotion(label='neutral', score=0.04065850004553795), Emotion(label='annoyance', score=0.03921026363968849), Emotion(label='realization', score=0.038274236023426056), Emotion(label='sadness', score=0.038155533373355865), Emotion(label='remorse', score=0.0324481762945652), Emotion(label='surprise', score=0.023963266983628273), Emotion(label='grief', score=0.022619172930717468), Emotion(label='relief', score=0.02141047641634941), Emotion(label='nervousness', score=0.020676657557487488), Emotion(label='fear', score=0.02051869034767151), Emotion(label='anger', score=0.020452385768294334), Emotion(label='pride', score=0.017170751467347145), Emotion(label='desire', score=0.01646474190056324), Emotion(label='caring', score=0.016421768814325333), Emotion(label='curiosity', score=0.014384595677256584), Emotion(label='amusement', score=0.013709690421819687), Emotion(label='approval', score=0.013112932443618774), Emotion(label='gratitude', score=0.012242352589964867), Emotion(label='optimism', score=0.010709143243730068), Emotion(label='love', score=0.010562957264482975), Emotion(label='admiration', score=0.010345382615923882), Emotion(label='joy', score=0.00984115805476904), Emotion(label='excitement', score=0.006531742867082357)], 'question-6': [Emotion(label='realization', score=0.12365546822547913), Emotion(label='approval', score=0.09206066280603409), Emotion(label='caring', score=0.07140208780765533), Emotion(label='pride', score=0.05091802403330803), Emotion(label='curiosity', score=0.04539746791124344), Emotion(label='optimism', score=0.03649824112653732), Emotion(label='amusement', score=0.03512772172689438), Emotion(label='desire', score=0.034038905054330826), Emotion(label='neutral', score=0.03403535857796669), Emotion(label='excitement', score=0.03266259282827377), Emotion(label='joy', score=0.03238248452544212), Emotion(label='admiration', score=0.031381476670503616), Emotion(label='nervousness', score=0.03017023205757141), Emotion(label='relief', score=0.02993064373731613), Emotion(label='annoyance', score=0.029585255309939384), Emotion(label='remorse', score=0.029546428471803665), Emotion(label='embarrassment', score=0.029134750366210938), Emotion(label='love', score=0.027948802337050438), Emotion(label='confusion', score=0.026987075805664062), Emotion(label='gratitude', score=0.02507656067609787), Emotion(label='disgust', score=0.022884929552674294), Emotion(label='grief', score=0.02209196798503399), Emotion(label='anger', score=0.021932732313871384), Emotion(label='surprise', score=0.020895332098007202), Emotion(label='sadness', score=0.018020858988165855), Emotion(label='fear', score=0.016678329557180405), Emotion(label='disapproval', score=0.015308640897274017), Emotion(label='disappointment', score=0.014247001148760319)]}), ResponseAnalytics(id='response-12', createdAt=1679000280, updatedAt=1679000280, status='Finished', jobId='b2f9978f-3407-44b1-8969-653742628c43-2', formId='form-1', trackingId='tracking-0', keywords={'question-3': [], 'question-4': [], 'question-6': []}, emotions={'question-3': [Emotion(label='realization', score=0.12365546822547913), Emotion(label='approval', score=0.09206066280603409), Emotion(label='caring', score=0.07140208780765533), Emotion(label='pride', score=0.05091802403330803), Emotion(label='curiosity', score=0.04539746791124344), Emotion(label='optimism', score=0.03649824112653732), Emotion(label='amusement', score=0.03512772172689438), Emotion(label='desire', score=0.034038905054330826), Emotion(label='neutral', score=0.03403535857796669), Emotion(label='excitement', score=0.03266259282827377), Emotion(label='joy', score=0.03238248452544212), Emotion(label='admiration', score=0.031381476670503616), Emotion(label='nervousness', score=0.03017023205757141), Emotion(label='relief', score=0.02993064373731613), Emotion(label='annoyance', score=0.029585255309939384), Emotion(label='remorse', score=0.029546428471803665), Emotion(label='embarrassment', score=0.029134750366210938), Emotion(label='love', score=0.027948802337050438), Emotion(label='confusion', score=0.026987075805664062), Emotion(label='gratitude', score=0.02507656067609787), Emotion(label='disgust', score=0.022884929552674294), Emotion(label='grief', score=0.02209196798503399), Emotion(label='anger', score=0.021932732313871384), Emotion(label='surprise', score=0.020895332098007202), Emotion(label='sadness', score=0.018020858988165855), Emotion(label='fear', score=0.016678329557180405), Emotion(label='disapproval', score=0.015308640897274017), Emotion(label='disappointment', score=0.014247001148760319)], 'question-4': [Emotion(label='realization', score=0.12365546822547913), Emotion(label='approval', score=0.09206066280603409), Emotion(label='caring', score=0.07140208780765533), Emotion(label='pride', score=0.05091802403330803), Emotion(label='curiosity', score=0.04539746791124344), Emotion(label='optimism', score=0.03649824112653732), Emotion(label='amusement', score=0.03512772172689438), Emotion(label='desire', score=0.034038905054330826), Emotion(label='neutral', score=0.03403535857796669), Emotion(label='excitement', score=0.03266259282827377), Emotion(label='joy', score=0.03238248452544212), Emotion(label='admiration', score=0.031381476670503616), Emotion(label='nervousness', score=0.03017023205757141), Emotion(label='relief', score=0.02993064373731613), Emotion(label='annoyance', score=0.029585255309939384), Emotion(label='remorse', score=0.029546428471803665), Emotion(label='embarrassment', score=0.029134750366210938), Emotion(label='love', score=0.027948802337050438), Emotion(label='confusion', score=0.026987075805664062), Emotion(label='gratitude', score=0.02507656067609787), Emotion(label='disgust', score=0.022884929552674294), Emotion(label='grief', score=0.02209196798503399), Emotion(label='anger', score=0.021932732313871384), Emotion(label='surprise', score=0.020895332098007202), Emotion(label='sadness', score=0.018020858988165855), Emotion(label='fear', score=0.016678329557180405), Emotion(label='disapproval', score=0.015308640897274017), Emotion(label='disappointment', score=0.014247001148760319)], 'question-6': [Emotion(label='realization', score=0.12365546822547913), Emotion(label='approval', score=0.09206066280603409), Emotion(label='caring', score=0.07140208780765533), Emotion(label='pride', score=0.05091802403330803), Emotion(label='curiosity', score=0.04539746791124344), Emotion(label='optimism', score=0.03649824112653732), Emotion(label='amusement', score=0.03512772172689438), Emotion(label='desire', score=0.034038905054330826), Emotion(label='neutral', score=0.03403535857796669), Emotion(label='excitement', score=0.03266259282827377), Emotion(label='joy', score=0.03238248452544212), Emotion(label='admiration', score=0.031381476670503616), Emotion(label='nervousness', score=0.03017023205757141), Emotion(label='relief', score=0.02993064373731613), Emotion(label='annoyance', score=0.029585255309939384), Emotion(label='remorse', score=0.029546428471803665), Emotion(label='embarrassment', score=0.029134750366210938), Emotion(label='love', score=0.027948802337050438), Emotion(label='confusion', score=0.026987075805664062), Emotion(label='gratitude', score=0.02507656067609787), Emotion(label='disgust', score=0.022884929552674294), Emotion(label='grief', score=0.02209196798503399), Emotion(label='anger', score=0.021932732313871384), Emotion(label='surprise', score=0.020895332098007202), Emotion(label='sadness', score=0.018020858988165855), Emotion(label='fear', score=0.016678329557180405), Emotion(label='disapproval', score=0.015308640897274017), Emotion(label='disappointment', score=0.014247001148760319)]}), ResponseAnalytics(id='response-13', createdAt=1679000280, updatedAt=1679000280, status='Finished', jobId='b2f9978f-3407-44b1-8969-653742628c43-3', formId='form-1', trackingId='tracking-2', keywords={'question-3': [], 'question-4': [], 'question-6': []}, emotions={'question-3': [Emotion(label='realization', score=0.12365546822547913), Emotion(label='approval', score=0.09206066280603409), Emotion(label='caring', score=0.07140208780765533), Emotion(label='pride', score=0.05091802403330803), Emotion(label='curiosity', score=0.04539746791124344), Emotion(label='optimism', score=0.03649824112653732), Emotion(label='amusement', score=0.03512772172689438), Emotion(label='desire', score=0.034038905054330826), Emotion(label='neutral', score=0.03403535857796669), Emotion(label='excitement', score=0.03266259282827377), Emotion(label='joy', score=0.03238248452544212), Emotion(label='admiration', score=0.031381476670503616), Emotion(label='nervousness', score=0.03017023205757141), Emotion(label='relief', score=0.02993064373731613), Emotion(label='annoyance', score=0.029585255309939384), Emotion(label='remorse', score=0.029546428471803665), Emotion(label='embarrassment', score=0.029134750366210938), Emotion(label='love', score=0.027948802337050438), Emotion(label='confusion', score=0.026987075805664062), Emotion(label='gratitude', score=0.02507656067609787), Emotion(label='disgust', score=0.022884929552674294), Emotion(label='grief', score=0.02209196798503399), Emotion(label='anger', score=0.021932732313871384), Emotion(label='surprise', score=0.020895332098007202), Emotion(label='sadness', score=0.018020858988165855), Emotion(label='fear', score=0.016678329557180405), Emotion(label='disapproval', score=0.015308640897274017), Emotion(label='disappointment', score=0.014247001148760319)], 'question-4': [Emotion(label='disapproval', score=0.21675270795822144), Emotion(label='disappointment', score=0.1333639919757843), Emotion(label='confusion', score=0.07218251377344131), Emotion(label='disgust', score=0.06531056761741638), Emotion(label='embarrassment', score=0.04250570386648178), Emotion(label='neutral', score=0.04065850004553795), Emotion(label='annoyance', score=0.03921026363968849), Emotion(label='realization', score=0.038274236023426056), Emotion(label='sadness', score=0.038155533373355865), Emotion(label='remorse', score=0.0324481762945652), Emotion(label='surprise', score=0.023963266983628273), Emotion(label='grief', score=0.022619172930717468), Emotion(label='relief', score=0.02141047641634941), Emotion(label='nervousness', score=0.020676657557487488), Emotion(label='fear', score=0.02051869034767151), Emotion(label='anger', score=0.020452385768294334), Emotion(label='pride', score=0.017170751467347145), Emotion(label='desire', score=0.01646474190056324), Emotion(label='caring', score=0.016421768814325333), Emotion(label='curiosity', score=0.014384595677256584), Emotion(label='amusement', score=0.013709690421819687), Emotion(label='approval', score=0.013112932443618774), Emotion(label='gratitude', score=0.012242352589964867), Emotion(label='optimism', score=0.010709143243730068), Emotion(label='love', score=0.010562957264482975), Emotion(label='admiration', score=0.010345382615923882), Emotion(label='joy', score=0.00984115805476904), Emotion(label='excitement', score=0.006531742867082357)], 'question-6': [Emotion(label='realization', score=0.12365546822547913), Emotion(label='approval', score=0.09206066280603409), Emotion(label='caring', score=0.07140208780765533), Emotion(label='pride', score=0.05091802403330803), Emotion(label='curiosity', score=0.04539746791124344), Emotion(label='optimism', score=0.03649824112653732), Emotion(label='amusement', score=0.03512772172689438), Emotion(label='desire', score=0.034038905054330826), Emotion(label='neutral', score=0.03403535857796669), Emotion(label='excitement', score=0.03266259282827377), Emotion(label='joy', score=0.03238248452544212), Emotion(label='admiration', score=0.031381476670503616), Emotion(label='nervousness', score=0.03017023205757141), Emotion(label='relief', score=0.02993064373731613), Emotion(label='annoyance', score=0.029585255309939384), Emotion(label='remorse', score=0.029546428471803665), Emotion(label='embarrassment', score=0.029134750366210938), Emotion(label='love', score=0.027948802337050438), Emotion(label='confusion', score=0.026987075805664062), Emotion(label='gratitude', score=0.02507656067609787), Emotion(label='disgust', score=0.022884929552674294), Emotion(label='grief', score=0.02209196798503399), Emotion(label='anger', score=0.021932732313871384), Emotion(label='surprise', score=0.020895332098007202), Emotion(label='sadness', score=0.018020858988165855), Emotion(label='fear', score=0.016678329557180405), Emotion(label='disapproval', score=0.015308640897274017), Emotion(label='disappointment', score=0.014247001148760319)]}), ResponseAnalytics(id='response-14', createdAt=1679000280, updatedAt=1679000280, status='Finished', jobId='b2f9978f-3407-44b1-8969-653742628c43-4', formId='form-1', trackingId='tracking-0', keywords={'question-3': [], 'question-4': [], 'question-6': []}, emotions={'question-3': [Emotion(label='realization', score=0.12365546822547913), Emotion(label='approval', score=0.09206066280603409), Emotion(label='caring', score=0.07140208780765533), Emotion(label='pride', score=0.05091802403330803), Emotion(label='curiosity', score=0.04539746791124344), Emotion(label='optimism', score=0.03649824112653732), Emotion(label='amusement', score=0.03512772172689438), Emotion(label='desire', score=0.034038905054330826), Emotion(label='neutral', score=0.03403535857796669), Emotion(label='excitement', score=0.03266259282827377), Emotion(label='joy', score=0.03238248452544212), Emotion(label='admiration', score=0.031381476670503616), Emotion(label='nervousness', score=0.03017023205757141), Emotion(label='relief', score=0.02993064373731613), Emotion(label='annoyance', score=0.029585255309939384), Emotion(label='remorse', score=0.029546428471803665), Emotion(label='embarrassment', score=0.029134750366210938), Emotion(label='love', score=0.027948802337050438), Emotion(label='confusion', score=0.026987075805664062), Emotion(label='gratitude', score=0.02507656067609787), Emotion(label='disgust', score=0.022884929552674294), Emotion(label='grief', score=0.02209196798503399), Emotion(label='anger', score=0.021932732313871384), Emotion(label='surprise', score=0.020895332098007202), Emotion(label='sadness', score=0.018020858988165855), Emotion(label='fear', score=0.016678329557180405), Emotion(label='disapproval', score=0.015308640897274017), Emotion(label='disappointment', score=0.014247001148760319)], 'question-4': [Emotion(label='disapproval', score=0.21675270795822144), Emotion(label='disappointment', score=0.1333639919757843), Emotion(label='confusion', score=0.07218251377344131), Emotion(label='disgust', score=0.06531056761741638), Emotion(label='embarrassment', score=0.04250570386648178), Emotion(label='neutral', score=0.04065850004553795), Emotion(label='annoyance', score=0.03921026363968849), Emotion(label='realization', score=0.038274236023426056), Emotion(label='sadness', score=0.038155533373355865), Emotion(label='remorse', score=0.0324481762945652), Emotion(label='surprise', score=0.023963266983628273), Emotion(label='grief', score=0.022619172930717468), Emotion(label='relief', score=0.02141047641634941), Emotion(label='nervousness', score=0.020676657557487488), Emotion(label='fear', score=0.02051869034767151), Emotion(label='anger', score=0.020452385768294334), Emotion(label='pride', score=0.017170751467347145), Emotion(label='desire', score=0.01646474190056324), Emotion(label='caring', score=0.016421768814325333), Emotion(label='curiosity', score=0.014384595677256584), Emotion(label='amusement', score=0.013709690421819687), Emotion(label='approval', score=0.013112932443618774), Emotion(label='gratitude', score=0.012242352589964867), Emotion(label='optimism', score=0.010709143243730068), Emotion(label='love', score=0.010562957264482975), Emotion(label='admiration', score=0.010345382615923882), Emotion(label='joy', score=0.00984115805476904), Emotion(label='excitement', score=0.006531742867082357)], 'question-6': [Emotion(label='disapproval', score=0.21675270795822144), Emotion(label='disappointment', score=0.1333639919757843), Emotion(label='confusion', score=0.07218251377344131), Emotion(label='disgust', score=0.06531056761741638), Emotion(label='embarrassment', score=0.04250570386648178), Emotion(label='neutral', score=0.04065850004553795), Emotion(label='annoyance', score=0.03921026363968849), Emotion(label='realization', score=0.038274236023426056), Emotion(label='sadness', score=0.038155533373355865), Emotion(label='remorse', score=0.0324481762945652), Emotion(label='surprise', score=0.023963266983628273), Emotion(label='grief', score=0.022619172930717468), Emotion(label='relief', score=0.02141047641634941), Emotion(label='nervousness', score=0.020676657557487488), Emotion(label='fear', score=0.02051869034767151), Emotion(label='anger', score=0.020452385768294334), Emotion(label='pride', score=0.017170751467347145), Emotion(label='desire', score=0.01646474190056324), Emotion(label='caring', score=0.016421768814325333), Emotion(label='curiosity', score=0.014384595677256584), Emotion(label='amusement', score=0.013709690421819687), Emotion(label='approval', score=0.013112932443618774), Emotion(label='gratitude', score=0.012242352589964867), Emotion(label='optimism', score=0.010709143243730068), Emotion(label='love', score=0.010562957264482975), Emotion(label='admiration', score=0.010345382615923882), Emotion(label='joy', score=0.00984115805476904), Emotion(label='excitement', score=0.006531742867082357)]}), ResponseAnalytics(id='response-15', createdAt=1679000280, updatedAt=1679000280, status='Finished', jobId='b2f9978f-3407-44b1-8969-653742628c43-5', formId='form-1', trackingId='tracking-2', keywords={'question-3': [], 'question-4': [], 'question-6': []}, emotions={'question-3': [Emotion(label='realization', score=0.12365546822547913), Emotion(label='approval', score=0.09206066280603409), Emotion(label='caring', score=0.07140208780765533), Emotion(label='pride', score=0.05091802403330803), Emotion(label='curiosity', score=0.04539746791124344), Emotion(label='optimism', score=0.03649824112653732), Emotion(label='amusement', score=0.03512772172689438), Emotion(label='desire', score=0.034038905054330826), Emotion(label='neutral', score=0.03403535857796669), Emotion(label='excitement', score=0.03266259282827377), Emotion(label='joy', score=0.03238248452544212), Emotion(label='admiration', score=0.031381476670503616), Emotion(label='nervousness', score=0.03017023205757141), Emotion(label='relief', score=0.02993064373731613), Emotion(label='annoyance', score=0.029585255309939384), Emotion(label='remorse', score=0.029546428471803665), Emotion(label='embarrassment', score=0.029134750366210938), Emotion(label='love', score=0.027948802337050438), Emotion(label='confusion', score=0.026987075805664062), Emotion(label='gratitude', score=0.02507656067609787), Emotion(label='disgust', score=0.022884929552674294), Emotion(label='grief', score=0.02209196798503399), Emotion(label='anger', score=0.021932732313871384), Emotion(label='surprise', score=0.020895332098007202), Emotion(label='sadness', score=0.018020858988165855), Emotion(label='fear', score=0.016678329557180405), Emotion(label='disapproval', score=0.015308640897274017), Emotion(label='disappointment', score=0.014247001148760319)], 'question-4': [Emotion(label='realization', score=0.12365546822547913), Emotion(label='approval', score=0.09206066280603409), Emotion(label='caring', score=0.07140208780765533), Emotion(label='pride', score=0.05091802403330803), Emotion(label='curiosity', score=0.04539746791124344), Emotion(label='optimism', score=0.03649824112653732), Emotion(label='amusement', score=0.03512772172689438), Emotion(label='desire', score=0.034038905054330826), Emotion(label='neutral', score=0.03403535857796669), Emotion(label='excitement', score=0.03266259282827377), Emotion(label='joy', score=0.03238248452544212), Emotion(label='admiration', score=0.031381476670503616), Emotion(label='nervousness', score=0.03017023205757141), Emotion(label='relief', score=0.02993064373731613), Emotion(label='annoyance', score=0.029585255309939384), Emotion(label='remorse', score=0.029546428471803665), Emotion(label='embarrassment', score=0.029134750366210938), Emotion(label='love', score=0.027948802337050438), Emotion(label='confusion', score=0.026987075805664062), Emotion(label='gratitude', score=0.02507656067609787), Emotion(label='disgust', score=0.022884929552674294), Emotion(label='grief', score=0.02209196798503399), Emotion(label='anger', score=0.021932732313871384), Emotion(label='surprise', score=0.020895332098007202), Emotion(label='sadness', score=0.018020858988165855), Emotion(label='fear', score=0.016678329557180405), Emotion(label='disapproval', score=0.015308640897274017), Emotion(label='disappointment', score=0.014247001148760319)], 'question-6': [Emotion(label='disapproval', score=0.21675270795822144), Emotion(label='disappointment', score=0.1333639919757843), Emotion(label='confusion', score=0.07218251377344131), Emotion(label='disgust', score=0.06531056761741638), Emotion(label='embarrassment', score=0.04250570386648178), Emotion(label='neutral', score=0.04065850004553795), Emotion(label='annoyance', score=0.03921026363968849), Emotion(label='realization', score=0.038274236023426056), Emotion(label='sadness', score=0.038155533373355865), Emotion(label='remorse', score=0.0324481762945652), Emotion(label='surprise', score=0.023963266983628273), Emotion(label='grief', score=0.022619172930717468), Emotion(label='relief', score=0.02141047641634941), Emotion(label='nervousness', score=0.020676657557487488), Emotion(label='fear', score=0.02051869034767151), Emotion(label='anger', score=0.020452385768294334), Emotion(label='pride', score=0.017170751467347145), Emotion(label='desire', score=0.01646474190056324), Emotion(label='caring', score=0.016421768814325333), Emotion(label='curiosity', score=0.014384595677256584), Emotion(label='amusement', score=0.013709690421819687), Emotion(label='approval', score=0.013112932443618774), Emotion(label='gratitude', score=0.012242352589964867), Emotion(label='optimism', score=0.010709143243730068), Emotion(label='love', score=0.010562957264482975), Emotion(label='admiration', score=0.010345382615923882), Emotion(label='joy', score=0.00984115805476904), Emotion(label='excitement', score=0.006531742867082357)]}), ResponseAnalytics(id='response-16', createdAt=1679000280, updatedAt=1679000280, status='Finished', jobId='b2f9978f-3407-44b1-8969-653742628c43-6', formId='form-1', trackingId='tracking-1', keywords={'question-3': [], 'question-4': [], 'question-6': []}, emotions={'question-3': [Emotion(label='realization', score=0.12365546822547913), Emotion(label='approval', score=0.09206066280603409), Emotion(label='caring', score=0.07140208780765533), Emotion(label='pride', score=0.05091802403330803), Emotion(label='curiosity', score=0.04539746791124344), Emotion(label='optimism', score=0.03649824112653732), Emotion(label='amusement', score=0.03512772172689438), Emotion(label='desire', score=0.034038905054330826), Emotion(label='neutral', score=0.03403535857796669), Emotion(label='excitement', score=0.03266259282827377), Emotion(label='joy', score=0.03238248452544212), Emotion(label='admiration', score=0.031381476670503616), Emotion(label='nervousness', score=0.03017023205757141), Emotion(label='relief', score=0.02993064373731613), Emotion(label='annoyance', score=0.029585255309939384), Emotion(label='remorse', score=0.029546428471803665), Emotion(label='embarrassment', score=0.029134750366210938), Emotion(label='love', score=0.027948802337050438), Emotion(label='confusion', score=0.026987075805664062), Emotion(label='gratitude', score=0.02507656067609787), Emotion(label='disgust', score=0.022884929552674294), Emotion(label='grief', score=0.02209196798503399), Emotion(label='anger', score=0.021932732313871384), Emotion(label='surprise', score=0.020895332098007202), Emotion(label='sadness', score=0.018020858988165855), Emotion(label='fear', score=0.016678329557180405), Emotion(label='disapproval', score=0.015308640897274017), Emotion(label='disappointment', score=0.014247001148760319)], 'question-4': [Emotion(label='disapproval', score=0.21675270795822144), Emotion(label='disappointment', score=0.1333639919757843), Emotion(label='confusion', score=0.07218251377344131), Emotion(label='disgust', score=0.06531056761741638), Emotion(label='embarrassment', score=0.04250570386648178), Emotion(label='neutral', score=0.04065850004553795), Emotion(label='annoyance', score=0.03921026363968849), Emotion(label='realization', score=0.038274236023426056), Emotion(label='sadness', score=0.038155533373355865), Emotion(label='remorse', score=0.0324481762945652), Emotion(label='surprise', score=0.023963266983628273), Emotion(label='grief', score=0.022619172930717468), Emotion(label='relief', score=0.02141047641634941), Emotion(label='nervousness', score=0.020676657557487488), Emotion(label='fear', score=0.02051869034767151), Emotion(label='anger', score=0.020452385768294334), Emotion(label='pride', score=0.017170751467347145), Emotion(label='desire', score=0.01646474190056324), Emotion(label='caring', score=0.016421768814325333), Emotion(label='curiosity', score=0.014384595677256584), Emotion(label='amusement', score=0.013709690421819687), Emotion(label='approval', score=0.013112932443618774), Emotion(label='gratitude', score=0.012242352589964867), Emotion(label='optimism', score=0.010709143243730068), Emotion(label='love', score=0.010562957264482975), Emotion(label='admiration', score=0.010345382615923882), Emotion(label='joy', score=0.00984115805476904), Emotion(label='excitement', score=0.006531742867082357)], 'question-6': [Emotion(label='disapproval', score=0.21675270795822144), Emotion(label='disappointment', score=0.1333639919757843), Emotion(label='confusion', score=0.07218251377344131), Emotion(label='disgust', score=0.06531056761741638), Emotion(label='embarrassment', score=0.04250570386648178), Emotion(label='neutral', score=0.04065850004553795), Emotion(label='annoyance', score=0.03921026363968849), Emotion(label='realization', score=0.038274236023426056), Emotion(label='sadness', score=0.038155533373355865), Emotion(label='remorse', score=0.0324481762945652), Emotion(label='surprise', score=0.023963266983628273), Emotion(label='grief', score=0.022619172930717468), Emotion(label='relief', score=0.02141047641634941), Emotion(label='nervousness', score=0.020676657557487488), Emotion(label='fear', score=0.02051869034767151), Emotion(label='anger', score=0.020452385768294334), Emotion(label='pride', score=0.017170751467347145), Emotion(label='desire', score=0.01646474190056324), Emotion(label='caring', score=0.016421768814325333), Emotion(label='curiosity', score=0.014384595677256584), Emotion(label='amusement', score=0.013709690421819687), Emotion(label='approval', score=0.013112932443618774), Emotion(label='gratitude', score=0.012242352589964867), Emotion(label='optimism', score=0.010709143243730068), Emotion(label='love', score=0.010562957264482975), Emotion(label='admiration', score=0.010345382615923882), Emotion(label='joy', score=0.00984115805476904), Emotion(label='excitement', score=0.006531742867082357)]}), ResponseAnalytics(id='response-17', createdAt=1679000280, updatedAt=1679000280, status='Finished', jobId='b2f9978f-3407-44b1-8969-653742628c43-7', formId='form-1', trackingId='tracking-2', keywords={'question-3': [], 'question-4': [], 'question-6': []}, emotions={'question-3': [Emotion(label='disapproval', score=0.21675270795822144), Emotion(label='disappointment', score=0.1333639919757843), Emotion(label='confusion', score=0.07218251377344131), Emotion(label='disgust', score=0.06531056761741638), Emotion(label='embarrassment', score=0.04250570386648178), Emotion(label='neutral', score=0.04065850004553795), Emotion(label='annoyance', score=0.03921026363968849), Emotion(label='realization', score=0.038274236023426056), Emotion(label='sadness', score=0.038155533373355865), Emotion(label='remorse', score=0.0324481762945652), Emotion(label='surprise', score=0.023963266983628273), Emotion(label='grief', score=0.022619172930717468), Emotion(label='relief', score=0.02141047641634941), Emotion(label='nervousness', score=0.020676657557487488), Emotion(label='fear', score=0.02051869034767151), Emotion(label='anger', score=0.020452385768294334), Emotion(label='pride', score=0.017170751467347145), Emotion(label='desire', score=0.01646474190056324), Emotion(label='caring', score=0.016421768814325333), Emotion(label='curiosity', score=0.014384595677256584), Emotion(label='amusement', score=0.013709690421819687), Emotion(label='approval', score=0.013112932443618774), Emotion(label='gratitude', score=0.012242352589964867), Emotion(label='optimism', score=0.010709143243730068), Emotion(label='love', score=0.010562957264482975), Emotion(label='admiration', score=0.010345382615923882), Emotion(label='joy', score=0.00984115805476904), Emotion(label='excitement', score=0.006531742867082357)], 'question-4': [Emotion(label='disapproval', score=0.21675270795822144), Emotion(label='disappointment', score=0.1333639919757843), Emotion(label='confusion', score=0.07218251377344131), Emotion(label='disgust', score=0.06531056761741638), Emotion(label='embarrassment', score=0.04250570386648178), Emotion(label='neutral', score=0.04065850004553795), Emotion(label='annoyance', score=0.03921026363968849), Emotion(label='realization', score=0.038274236023426056), Emotion(label='sadness', score=0.038155533373355865), Emotion(label='remorse', score=0.0324481762945652), Emotion(label='surprise', score=0.023963266983628273), Emotion(label='grief', score=0.022619172930717468), Emotion(label='relief', score=0.02141047641634941), Emotion(label='nervousness', score=0.020676657557487488), Emotion(label='fear', score=0.02051869034767151), Emotion(label='anger', score=0.020452385768294334), Emotion(label='pride', score=0.017170751467347145), Emotion(label='desire', score=0.01646474190056324), Emotion(label='caring', score=0.016421768814325333), Emotion(label='curiosity', score=0.014384595677256584), Emotion(label='amusement', score=0.013709690421819687), Emotion(label='approval', score=0.013112932443618774), Emotion(label='gratitude', score=0.012242352589964867), Emotion(label='optimism', score=0.010709143243730068), Emotion(label='love', score=0.010562957264482975), Emotion(label='admiration', score=0.010345382615923882), Emotion(label='joy', score=0.00984115805476904), Emotion(label='excitement', score=0.006531742867082357)], 'question-6': [Emotion(label='disapproval', score=0.21675270795822144), Emotion(label='disappointment', score=0.1333639919757843), Emotion(label='confusion', score=0.07218251377344131), Emotion(label='disgust', score=0.06531056761741638), Emotion(label='embarrassment', score=0.04250570386648178), Emotion(label='neutral', score=0.04065850004553795), Emotion(label='annoyance', score=0.03921026363968849), Emotion(label='realization', score=0.038274236023426056), Emotion(label='sadness', score=0.038155533373355865), Emotion(label='remorse', score=0.0324481762945652), Emotion(label='surprise', score=0.023963266983628273), Emotion(label='grief', score=0.022619172930717468), Emotion(label='relief', score=0.02141047641634941), Emotion(label='nervousness', score=0.020676657557487488), Emotion(label='fear', score=0.02051869034767151), Emotion(label='anger', score=0.020452385768294334), Emotion(label='pride', score=0.017170751467347145), Emotion(label='desire', score=0.01646474190056324), Emotion(label='caring', score=0.016421768814325333), Emotion(label='curiosity', score=0.014384595677256584), Emotion(label='amusement', score=0.013709690421819687), Emotion(label='approval', score=0.013112932443618774), Emotion(label='gratitude', score=0.012242352589964867), Emotion(label='optimism', score=0.010709143243730068), Emotion(label='love', score=0.010562957264482975), Emotion(label='admiration', score=0.010345382615923882), Emotion(label='joy', score=0.00984115805476904), Emotion(label='excitement', score=0.006531742867082357)]}), ResponseAnalytics(id='response-18', createdAt=1679000280, updatedAt=1679000280, status='Finished', jobId='b2f9978f-3407-44b1-8969-653742628c43-8', formId='form-1', trackingId='tracking-1', keywords={'question-3': [], 'question-4': [], 'question-6': []}, emotions={'question-3': [Emotion(label='disapproval', score=0.21675270795822144), Emotion(label='disappointment', score=0.1333639919757843), Emotion(label='confusion', score=0.07218251377344131), Emotion(label='disgust', score=0.06531056761741638), Emotion(label='embarrassment', score=0.04250570386648178), Emotion(label='neutral', score=0.04065850004553795), Emotion(label='annoyance', score=0.03921026363968849), Emotion(label='realization', score=0.038274236023426056), Emotion(label='sadness', score=0.038155533373355865), Emotion(label='remorse', score=0.0324481762945652), Emotion(label='surprise', score=0.023963266983628273), Emotion(label='grief', score=0.022619172930717468), Emotion(label='relief', score=0.02141047641634941), Emotion(label='nervousness', score=0.020676657557487488), Emotion(label='fear', score=0.02051869034767151), Emotion(label='anger', score=0.020452385768294334), Emotion(label='pride', score=0.017170751467347145), Emotion(label='desire', score=0.01646474190056324), Emotion(label='caring', score=0.016421768814325333), Emotion(label='curiosity', score=0.014384595677256584), Emotion(label='amusement', score=0.013709690421819687), Emotion(label='approval', score=0.013112932443618774), Emotion(label='gratitude', score=0.012242352589964867), Emotion(label='optimism', score=0.010709143243730068), Emotion(label='love', score=0.010562957264482975), Emotion(label='admiration', score=0.010345382615923882), Emotion(label='joy', score=0.00984115805476904), Emotion(label='excitement', score=0.006531742867082357)], 'question-4': [Emotion(label='realization', score=0.12365546822547913), Emotion(label='approval', score=0.09206066280603409), Emotion(label='caring', score=0.07140208780765533), Emotion(label='pride', score=0.05091802403330803), Emotion(label='curiosity', score=0.04539746791124344), Emotion(label='optimism', score=0.03649824112653732), Emotion(label='amusement', score=0.03512772172689438), Emotion(label='desire', score=0.034038905054330826), Emotion(label='neutral', score=0.03403535857796669), Emotion(label='excitement', score=0.03266259282827377), Emotion(label='joy', score=0.03238248452544212), Emotion(label='admiration', score=0.031381476670503616), Emotion(label='nervousness', score=0.03017023205757141), Emotion(label='relief', score=0.02993064373731613), Emotion(label='annoyance', score=0.029585255309939384), Emotion(label='remorse', score=0.029546428471803665), Emotion(label='embarrassment', score=0.029134750366210938), Emotion(label='love', score=0.027948802337050438), Emotion(label='confusion', score=0.026987075805664062), Emotion(label='gratitude', score=0.02507656067609787), Emotion(label='disgust', score=0.022884929552674294), Emotion(label='grief', score=0.02209196798503399), Emotion(label='anger', score=0.021932732313871384), Emotion(label='surprise', score=0.020895332098007202), Emotion(label='sadness', score=0.018020858988165855), Emotion(label='fear', score=0.016678329557180405), Emotion(label='disapproval', score=0.015308640897274017), Emotion(label='disappointment', score=0.014247001148760319)], 'question-6': [Emotion(label='realization', score=0.12365546822547913), Emotion(label='approval', score=0.09206066280603409), Emotion(label='caring', score=0.07140208780765533), Emotion(label='pride', score=0.05091802403330803), Emotion(label='curiosity', score=0.04539746791124344), Emotion(label='optimism', score=0.03649824112653732), Emotion(label='amusement', score=0.03512772172689438), Emotion(label='desire', score=0.034038905054330826), Emotion(label='neutral', score=0.03403535857796669), Emotion(label='excitement', score=0.03266259282827377), Emotion(label='joy', score=0.03238248452544212), Emotion(label='admiration', score=0.031381476670503616), Emotion(label='nervousness', score=0.03017023205757141), Emotion(label='relief', score=0.02993064373731613), Emotion(label='annoyance', score=0.029585255309939384), Emotion(label='remorse', score=0.029546428471803665), Emotion(label='embarrassment', score=0.029134750366210938), Emotion(label='love', score=0.027948802337050438), Emotion(label='confusion', score=0.026987075805664062), Emotion(label='gratitude', score=0.02507656067609787), Emotion(label='disgust', score=0.022884929552674294), Emotion(label='grief', score=0.02209196798503399), Emotion(label='anger', score=0.021932732313871384), Emotion(label='surprise', score=0.020895332098007202), Emotion(label='sadness', score=0.018020858988165855), Emotion(label='fear', score=0.016678329557180405), Emotion(label='disapproval', score=0.015308640897274017), Emotion(label='disappointment', score=0.014247001148760319)]}), ResponseAnalytics(id='response-19', createdAt=1679000280, updatedAt=1679000280, status='Finished', jobId='b2f9978f-3407-44b1-8969-653742628c43-9', formId='form-1', trackingId='tracking-0', keywords={'question-3': [], 'question-4': [], 'question-6': []}, emotions={'question-3': [Emotion(label='disapproval', score=0.21675270795822144), Emotion(label='disappointment', score=0.1333639919757843), Emotion(label='confusion', score=0.07218251377344131), Emotion(label='disgust', score=0.06531056761741638), Emotion(label='embarrassment', score=0.04250570386648178), Emotion(label='neutral', score=0.04065850004553795), Emotion(label='annoyance', score=0.03921026363968849), Emotion(label='realization', score=0.038274236023426056), Emotion(label='sadness', score=0.038155533373355865), Emotion(label='remorse', score=0.0324481762945652), Emotion(label='surprise', score=0.023963266983628273), Emotion(label='grief', score=0.022619172930717468), Emotion(label='relief', score=0.02141047641634941), Emotion(label='nervousness', score=0.020676657557487488), Emotion(label='fear', score=0.02051869034767151), Emotion(label='anger', score=0.020452385768294334), Emotion(label='pride', score=0.017170751467347145), Emotion(label='desire', score=0.01646474190056324), Emotion(label='caring', score=0.016421768814325333), Emotion(label='curiosity', score=0.014384595677256584), Emotion(label='amusement', score=0.013709690421819687), Emotion(label='approval', score=0.013112932443618774), Emotion(label='gratitude', score=0.012242352589964867), Emotion(label='optimism', score=0.010709143243730068), Emotion(label='love', score=0.010562957264482975), Emotion(label='admiration', score=0.010345382615923882), Emotion(label='joy', score=0.00984115805476904), Emotion(label='excitement', score=0.006531742867082357)], 'question-4': [Emotion(label='disapproval', score=0.21675270795822144), Emotion(label='disappointment', score=0.1333639919757843), Emotion(label='confusion', score=0.07218251377344131), Emotion(label='disgust', score=0.06531056761741638), Emotion(label='embarrassment', score=0.04250570386648178), Emotion(label='neutral', score=0.04065850004553795), Emotion(label='annoyance', score=0.03921026363968849), Emotion(label='realization', score=0.038274236023426056), Emotion(label='sadness', score=0.038155533373355865), Emotion(label='remorse', score=0.0324481762945652), Emotion(label='surprise', score=0.023963266983628273), Emotion(label='grief', score=0.022619172930717468), Emotion(label='relief', score=0.02141047641634941), Emotion(label='nervousness', score=0.020676657557487488), Emotion(label='fear', score=0.02051869034767151), Emotion(label='anger', score=0.020452385768294334), Emotion(label='pride', score=0.017170751467347145), Emotion(label='desire', score=0.01646474190056324), Emotion(label='caring', score=0.016421768814325333), Emotion(label='curiosity', score=0.014384595677256584), Emotion(label='amusement', score=0.013709690421819687), Emotion(label='approval', score=0.013112932443618774), Emotion(label='gratitude', score=0.012242352589964867), Emotion(label='optimism', score=0.010709143243730068), Emotion(label='love', score=0.010562957264482975), Emotion(label='admiration', score=0.010345382615923882), Emotion(label='joy', score=0.00984115805476904), Emotion(label='excitement', score=0.006531742867082357)], 'question-6': [Emotion(label='disapproval', score=0.21675270795822144), Emotion(label='disappointment', score=0.1333639919757843), Emotion(label='confusion', score=0.07218251377344131), Emotion(label='disgust', score=0.06531056761741638), Emotion(label='embarrassment', score=0.04250570386648178), Emotion(label='neutral', score=0.04065850004553795), Emotion(label='annoyance', score=0.03921026363968849), Emotion(label='realization', score=0.038274236023426056), Emotion(label='sadness', score=0.038155533373355865), Emotion(label='remorse', score=0.0324481762945652), Emotion(label='surprise', score=0.023963266983628273), Emotion(label='grief', score=0.022619172930717468), Emotion(label='relief', score=0.02141047641634941), Emotion(label='nervousness', score=0.020676657557487488), Emotion(label='fear', score=0.02051869034767151), Emotion(label='anger', score=0.020452385768294334), Emotion(label='pride', score=0.017170751467347145), Emotion(label='desire', score=0.01646474190056324), Emotion(label='caring', score=0.016421768814325333), Emotion(label='curiosity', score=0.014384595677256584), Emotion(label='amusement', score=0.013709690421819687), Emotion(label='approval', score=0.013112932443618774), Emotion(label='gratitude', score=0.012242352589964867), Emotion(label='optimism', score=0.010709143243730068), Emotion(label='love', score=0.010562957264482975), Emotion(label='admiration', score=0.010345382615923882), Emotion(label='joy', score=0.00984115805476904), Emotion(label='excitement', score=0.006531742867082357)]})])"
      ]
     },
     "execution_count": 12,
     "metadata": {},
     "output_type": "execute_result"
    }
   ],
   "source": [
    "api.get_form_analytics(\"form-1\")\n"
   ]
  },
  {
   "cell_type": "code",
   "execution_count": 13,
   "metadata": {},
   "outputs": [],
   "source": [
    "question = Question(\n",
    "    id=\"new-question\",\n",
    "    createdAt=0,\n",
    "    updatedAt=0,\n",
    "    type=\"ShortAnswer\",\n",
    "    required=True,\n",
    "    question=\"What is your favorite color?\",\n",
    "    placeholder=None,\n",
    "    subQuestions=None,\n",
    "    options=None,\n",
    "    min=None,\n",
    "    max=None,\n",
    ")\n",
    "api.create_question(question)\n",
    "\n",
    "api.add_question_to_form(\"form-0\", \"new-question\")\n"
   ]
  },
  {
   "cell_type": "code",
   "execution_count": 14,
   "metadata": {},
   "outputs": [],
   "source": [
    "metric = Metric(\n",
    "    id=\"new-metric\",\n",
    "    createdAt=0,\n",
    "    updatedAt=0,\n",
    "    trackingId=\"tracking-0\",\n",
    "    values={\"metric-value-0\": 0.5, \"metric-value-1\": 0.5, \"metric-value-2\": 0.5},\n",
    ")\n",
    "api.create_metric(metric)\n",
    "\n",
    "\n",
    "api.add_metric_to_response(\"form-0\", \"response-0\", \"new-metric\")\n"
   ]
  },
  {
   "cell_type": "code",
   "execution_count": 15,
   "metadata": {},
   "outputs": [],
   "source": [
    "api.patch_question(\n",
    "    \"new-question\",\n",
    "    {\n",
    "        \"question\": \"Is this a new question?\",\n",
    "    },\n",
    ")\n",
    "api.patch_form(\n",
    "    \"form-0\",\n",
    "    {\n",
    "        \"title\": \"New title\",\n",
    "    }\n",
    ")\n",
    "api.patch_metric(\n",
    "    \"new-metric\",\n",
    "    {\n",
    "        \"values\": {\"metric-value-0\": 1., \"metric-value-1\": 1.0, \"metric-value-2\": 1.0},\n",
    "    }\n",
    ")\n",
    "api.patch_response(\n",
    "    \"form-0\",\n",
    "    \"response-0\",\n",
    "    {\n",
    "        \"updatedAt\": 1,\n",
    "    }\n",
    ")\n"
   ]
  },
  {
   "cell_type": "code",
   "execution_count": 16,
   "metadata": {},
   "outputs": [],
   "source": [
    "api.delete_form(\"form-0\")\n",
    "api.delete_response(\"form-0\", \"response-0\")"
   ]
  },
  {
   "cell_type": "code",
   "execution_count": 17,
   "metadata": {},
   "outputs": [],
   "source": [
    "api.set_form_active(\"form-1\", False)"
   ]
  },
  {
   "cell_type": "code",
   "execution_count": 20,
   "metadata": {},
   "outputs": [],
   "source": [
    "api.move_question_up(\"form-1\", \"question-0\")"
   ]
  },
  {
   "cell_type": "code",
   "execution_count": 21,
   "metadata": {},
   "outputs": [],
   "source": [
    "api.move_question_down(\"form-1\", \"question-0\")"
   ]
  },
  {
   "cell_type": "code",
   "execution_count": null,
   "metadata": {},
   "outputs": [],
   "source": []
  }
 ],
 "metadata": {
  "kernelspec": {
   "display_name": "env",
   "language": "python",
   "name": "python3"
  },
  "language_info": {
   "codemirror_mode": {
    "name": "ipython",
    "version": 3
   },
   "file_extension": ".py",
   "mimetype": "text/x-python",
   "name": "python",
   "nbconvert_exporter": "python",
   "pygments_lexer": "ipython3",
   "version": "3.10.6"
  },
  "orig_nbformat": 4
 },
 "nbformat": 4,
 "nbformat_minor": 2
}
